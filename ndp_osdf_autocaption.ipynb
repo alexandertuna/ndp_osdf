{
 "cells": [
  {
   "cell_type": "code",
   "execution_count": null,
   "id": "acc1ba06-42eb-4276-be4c-251ff93fd070",
   "metadata": {},
   "outputs": [],
   "source": [
    "print(\"pip install should take about 90 seconds ...\")\n",
    "! time pip install -q transformers torch torchvision pillow ipywidgets"
   ]
  },
  {
   "cell_type": "code",
   "execution_count": null,
   "id": "80d7e9d5-b5f8-400a-b60a-9bc40a7dd037",
   "metadata": {},
   "outputs": [],
   "source": [
    "# Imports\n",
    "from PIL import Image\n",
    "from IPython.display import display\n",
    "from transformers import BlipProcessor, BlipForConditionalGeneration\n",
    "import torch"
   ]
  },
  {
   "cell_type": "code",
   "execution_count": null,
   "id": "a23ae945-4210-48d8-9f8b-6e22f8c55c27",
   "metadata": {},
   "outputs": [],
   "source": [
    "# Load image downloaded from OSDF\n",
    "input_path = \"birch.png\"\n",
    "image = Image.open(input_path)\n",
    "\n",
    "# Resize because its kinda big\n",
    "if max(image.size) > 1000:\n",
    "    print(\"Resizing ... \")\n",
    "    size_x, size_y = image.size\n",
    "    image = image.resize((size_x // 8, size_y // 8))\n",
    "\n",
    "# Display\n",
    "display(image)"
   ]
  },
  {
   "cell_type": "code",
   "execution_count": null,
   "id": "87e2970f-8a57-4aa3-8f2d-d19310cf3d66",
   "metadata": {},
   "outputs": [],
   "source": [
    "# Load model and processor from HuggingFace\n",
    "# https://huggingface.co/Salesforce/blip-image-captioning-base\n",
    "processor = BlipProcessor.from_pretrained(\"Salesforce/blip-image-captioning-base\", use_fast=True)\n",
    "model = BlipForConditionalGeneration.from_pretrained(\"Salesforce/blip-image-captioning-base\")\n",
    "\n",
    "# Prepare inputs\n",
    "inputs = processor(images=image, return_tensors=\"pt\")"
   ]
  },
  {
   "cell_type": "code",
   "execution_count": null,
   "id": "087e4314-899d-4dc2-9dc4-374b777bce31",
   "metadata": {},
   "outputs": [],
   "source": [
    "# Generate caption\n",
    "with torch.no_grad():\n",
    "    output = model.generate(**inputs, max_new_tokens=20)\n",
    "\n",
    "# Print caption\n",
    "caption = processor.decode(output[0], skip_special_tokens=True)\n",
    "msg = \"Caption from BLIP image-captioning base:\"\n",
    "print(\"\")\n",
    "print(msg)\n",
    "print(\"-\"*len(msg))\n",
    "print(caption.center(len(msg)))\n",
    "\n",
    "# Write caption to file\n",
    "with open(\"birch.txt\", \"w\") as fi:\n",
    "    fi.write(caption + \"\\n\")"
   ]
  },
  {
   "cell_type": "code",
   "execution_count": null,
   "id": "a14b25a7-fa5c-4a16-9ea3-895260f15e32",
   "metadata": {},
   "outputs": [],
   "source": []
  }
 ],
 "metadata": {
  "kernelspec": {
   "display_name": "Python 3 (ipykernel)",
   "language": "python",
   "name": "python3"
  },
  "language_info": {
   "codemirror_mode": {
    "name": "ipython",
    "version": 3
   },
   "file_extension": ".py",
   "mimetype": "text/x-python",
   "name": "python",
   "nbconvert_exporter": "python",
   "pygments_lexer": "ipython3",
   "version": "3.11.9"
  }
 },
 "nbformat": 4,
 "nbformat_minor": 5
}
